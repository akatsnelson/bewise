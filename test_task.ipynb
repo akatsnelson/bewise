{
 "cells": [
  {
   "cell_type": "code",
   "execution_count": 2,
   "outputs": [
    {
     "name": "stdout",
     "output_type": "stream",
     "text": [
      "Requirement already satisfied: pandas in /Users/akatsnelson/.conda/envs/ML/lib/python3.10/site-packages (1.4.3)\r\n",
      "Requirement already satisfied: python-dateutil>=2.8.1 in /Users/akatsnelson/.conda/envs/ML/lib/python3.10/site-packages (from pandas) (2.8.2)\r\n",
      "Requirement already satisfied: pytz>=2020.1 in /Users/akatsnelson/.conda/envs/ML/lib/python3.10/site-packages (from pandas) (2022.2.1)\r\n",
      "Requirement already satisfied: numpy>=1.21.0 in /Users/akatsnelson/.conda/envs/ML/lib/python3.10/site-packages (from pandas) (1.23.2)\r\n",
      "Requirement already satisfied: six>=1.5 in /Users/akatsnelson/.conda/envs/ML/lib/python3.10/site-packages (from python-dateutil>=2.8.1->pandas) (1.16.0)\r\n"
     ]
    }
   ],
   "source": [
    "!pip install pandas"
   ],
   "metadata": {
    "collapsed": false,
    "pycharm": {
     "name": "#%%\n"
    }
   }
  },
  {
   "cell_type": "markdown",
   "source": [
    "Начем с нахождения реплики приветствия и прощания, поскольку принцип их нахождения идентичен.\n",
    "Тк список реплик с приветствием и прощанием является словарным, просто выпишем все варианты (даже самые странные):"
   ],
   "metadata": {
    "collapsed": false,
    "pycharm": {
     "name": "#%% md\n"
    }
   }
  },
  {
   "cell_type": "code",
   "execution_count": 1,
   "outputs": [],
   "source": [
    "russian_greetings = '''В кои-то веки\n",
    "Вот так встреча\n",
    "Всегда рады Вам\n",
    "Глубокое почтение\n",
    "Глубокое глубочайшее\n",
    "Горячий привет\n",
    "Горячо приветствую\n",
    "Доброго здоровья\n",
    "Доброго здоровьица\n",
    "Доброе утро\n",
    "Добро пожаловать\n",
    "Добрый вечер\n",
    "Добрый день\n",
    "Дозвольте приветствовать\n",
    "Душевно рад\n",
    "Душою рад Вас видеть\n",
    "Желаю здравствовать\n",
    "Здравия желаю\n",
    "Здравствуйте\n",
    "Здравствуй\n",
    "Какая встреча\n",
    "Какие гости\n",
    "Моё почтение\n",
    "Нижайшее почтение\n",
    "Позвольте Вас приветствовать\n",
    "Почитаю приятным долгом засвидетельствовать Вам моё почтение\n",
    "Почитаю приятным долгом засвидетельствовать Вам моё уважение\n",
    "Почтение моё\n",
    "Привет\n",
    "Приветствую Вас\n",
    "Приветствую Вас от имени\n",
    "приветствует\n",
    "Приятный вечер\n",
    "Приятный день\n",
    "Рад Вам\n",
    "Рад Вас видеть\n",
    "Рад Вас видеть в добром здравии\n",
    "Рад Вас приветствовать\n",
    "Рад Вас слышать\n",
    "Рад пожать Вашу руку\n",
    "Разрешите Вас приветствовать\n",
    "Разрешите засвидетельствовать Вам моё почтение\n",
    "Разрешите засвидетельствовать Вам моё уважение\n",
    "С возвращением\n",
    "С выздоровлением\n",
    "С добрым утром\n",
    "Сердечно приветствую Вас\n",
    "Сердечно рад Вам\n",
    "Сердечный поклон Вам\n",
    "Сердечный привет Вам\n",
    "Сколько лет, сколько зим\n",
    "Тысячу лет Вас не видел\n",
    "Тысячу лет Вас не виделись'''\n",
    "russian_farewell = '''Счастливо\n",
    "прощайте\n",
    "до встречи\n",
    "до свидания\n",
    "всего доброго\n",
    "всего хорошего\n",
    "пока\n",
    "до свидания\n",
    "ещё увидимся\n",
    "до скорой встречи\n",
    "всего хорошего\n",
    "счастливо\n",
    "до завтра\n",
    "доброго пути\n",
    "будьте здоровы\n",
    "всегда рады вас видеть\n",
    "приятно было познакомиться\n",
    "всего доброго\n",
    "счастливого пути\n",
    "счастливо оставаться\n",
    "до вечера\n",
    "до утра\n",
    "надеюсь ещё раз увидеться с вами\n",
    "до новой встречи\n",
    "всегда рады вас видеть\n",
    "будьте здоровы\n",
    "разрешите откланяться\n",
    "доброй ночи\n",
    "чао'''\n",
    "russian_greetings = russian_greetings.lower().split('\\n')\n",
    "russian_farewell = russian_farewell.lower().split('\\n')"
   ],
   "metadata": {
    "collapsed": false,
    "pycharm": {
     "name": "#%%\n"
    }
   }
  },
  {
   "cell_type": "markdown",
   "source": [
    "Теперь выполним поиск по текстам"
   ],
   "metadata": {
    "collapsed": false,
    "pycharm": {
     "name": "#%% md\n"
    }
   }
  },
  {
   "cell_type": "code",
   "execution_count": 2,
   "outputs": [],
   "source": [
    "import pandas as pd\n",
    "\n",
    "df = pd.read_csv('test_data.csv')\n",
    "\n",
    "\n",
    "def greeting_detection(text):\n",
    "    text = text.lower()\n",
    "    for greeting in russian_greetings:\n",
    "        if greeting in text:\n",
    "            return True\n",
    "    return False\n",
    "\n",
    "\n",
    "def farewell_detection(text):\n",
    "    text = text.lower()\n",
    "    for goodbye in russian_farewell:\n",
    "        if goodbye in text:\n",
    "            return True\n",
    "    return False\n",
    "\n",
    "\n",
    "df['manager_greeting'] = df[df['role'] == 'manager']['text'].apply(greeting_detection)\n",
    "df['manager_farewell'] = df[df['role'] == 'manager']['text'].apply(farewell_detection)\n"
   ],
   "metadata": {
    "collapsed": false,
    "pycharm": {
     "name": "#%%\n"
    }
   }
  },
  {
   "cell_type": "markdown",
   "source": [
    "Предварительно проверим нашу работу. Реплика с приветствием будет в начале, а c прощанием в конце, проверим это."
   ],
   "metadata": {
    "collapsed": false,
    "pycharm": {
     "name": "#%% md\n"
    }
   }
  },
  {
   "cell_type": "code",
   "execution_count": 3,
   "outputs": [
    {
     "data": {
      "text/plain": "   dlg_id  line_n     role                                               text  \\\n0       0       0   client                                               Алло   \n1       0       1  manager                                  Алло здравствуйте   \n2       0       2   client                                        Добрый день   \n3       0       3  manager  Меня зовут ангелина компания диджитал бизнес з...   \n4       0       4   client                                                Ага   \n\n  manager_greeting manager_farewell  \n0              NaN              NaN  \n1             True            False  \n2              NaN              NaN  \n3            False            False  \n4              NaN              NaN  ",
      "text/html": "<div>\n<style scoped>\n    .dataframe tbody tr th:only-of-type {\n        vertical-align: middle;\n    }\n\n    .dataframe tbody tr th {\n        vertical-align: top;\n    }\n\n    .dataframe thead th {\n        text-align: right;\n    }\n</style>\n<table border=\"1\" class=\"dataframe\">\n  <thead>\n    <tr style=\"text-align: right;\">\n      <th></th>\n      <th>dlg_id</th>\n      <th>line_n</th>\n      <th>role</th>\n      <th>text</th>\n      <th>manager_greeting</th>\n      <th>manager_farewell</th>\n    </tr>\n  </thead>\n  <tbody>\n    <tr>\n      <th>0</th>\n      <td>0</td>\n      <td>0</td>\n      <td>client</td>\n      <td>Алло</td>\n      <td>NaN</td>\n      <td>NaN</td>\n    </tr>\n    <tr>\n      <th>1</th>\n      <td>0</td>\n      <td>1</td>\n      <td>manager</td>\n      <td>Алло здравствуйте</td>\n      <td>True</td>\n      <td>False</td>\n    </tr>\n    <tr>\n      <th>2</th>\n      <td>0</td>\n      <td>2</td>\n      <td>client</td>\n      <td>Добрый день</td>\n      <td>NaN</td>\n      <td>NaN</td>\n    </tr>\n    <tr>\n      <th>3</th>\n      <td>0</td>\n      <td>3</td>\n      <td>manager</td>\n      <td>Меня зовут ангелина компания диджитал бизнес з...</td>\n      <td>False</td>\n      <td>False</td>\n    </tr>\n    <tr>\n      <th>4</th>\n      <td>0</td>\n      <td>4</td>\n      <td>client</td>\n      <td>Ага</td>\n      <td>NaN</td>\n      <td>NaN</td>\n    </tr>\n  </tbody>\n</table>\n</div>"
     },
     "execution_count": 3,
     "metadata": {},
     "output_type": "execute_result"
    }
   ],
   "source": [
    "df.head()"
   ],
   "metadata": {
    "collapsed": false,
    "pycharm": {
     "name": "#%%\n"
    }
   }
  },
  {
   "cell_type": "code",
   "execution_count": 4,
   "outputs": [
    {
     "data": {
      "text/plain": "     dlg_id  line_n     role  \\\n475       5     138  manager   \n476       5     139  manager   \n477       5     140   client   \n478       5     141   client   \n479       5     142  manager   \n\n                                                  text manager_greeting  \\\n475  По поводу виджетов и с ними уже обсудите конкр...            False   \n476  Все я вам высылаю счет и с вами на связи если ...            False   \n477                                    Спасибо спасибо              NaN   \n478     Да да тогда созвонимся ага спасибо вам давайте              NaN   \n479                     Ну до свидания хорошего вечера            False   \n\n    manager_farewell  \n475            False  \n476            False  \n477              NaN  \n478              NaN  \n479             True  ",
      "text/html": "<div>\n<style scoped>\n    .dataframe tbody tr th:only-of-type {\n        vertical-align: middle;\n    }\n\n    .dataframe tbody tr th {\n        vertical-align: top;\n    }\n\n    .dataframe thead th {\n        text-align: right;\n    }\n</style>\n<table border=\"1\" class=\"dataframe\">\n  <thead>\n    <tr style=\"text-align: right;\">\n      <th></th>\n      <th>dlg_id</th>\n      <th>line_n</th>\n      <th>role</th>\n      <th>text</th>\n      <th>manager_greeting</th>\n      <th>manager_farewell</th>\n    </tr>\n  </thead>\n  <tbody>\n    <tr>\n      <th>475</th>\n      <td>5</td>\n      <td>138</td>\n      <td>manager</td>\n      <td>По поводу виджетов и с ними уже обсудите конкр...</td>\n      <td>False</td>\n      <td>False</td>\n    </tr>\n    <tr>\n      <th>476</th>\n      <td>5</td>\n      <td>139</td>\n      <td>manager</td>\n      <td>Все я вам высылаю счет и с вами на связи если ...</td>\n      <td>False</td>\n      <td>False</td>\n    </tr>\n    <tr>\n      <th>477</th>\n      <td>5</td>\n      <td>140</td>\n      <td>client</td>\n      <td>Спасибо спасибо</td>\n      <td>NaN</td>\n      <td>NaN</td>\n    </tr>\n    <tr>\n      <th>478</th>\n      <td>5</td>\n      <td>141</td>\n      <td>client</td>\n      <td>Да да тогда созвонимся ага спасибо вам давайте</td>\n      <td>NaN</td>\n      <td>NaN</td>\n    </tr>\n    <tr>\n      <th>479</th>\n      <td>5</td>\n      <td>142</td>\n      <td>manager</td>\n      <td>Ну до свидания хорошего вечера</td>\n      <td>False</td>\n      <td>True</td>\n    </tr>\n  </tbody>\n</table>\n</div>"
     },
     "execution_count": 4,
     "metadata": {},
     "output_type": "execute_result"
    }
   ],
   "source": [
    "df.tail()"
   ],
   "metadata": {
    "collapsed": false,
    "pycharm": {
     "name": "#%%\n"
    }
   }
  },
  {
   "cell_type": "markdown",
   "source": [
    "Теперь приступим к более сложной задаче, а находить реплики, где менеджер представил себя. Для этого воспользуемся NER от SpiCy"
   ],
   "metadata": {
    "collapsed": false,
    "pycharm": {
     "name": "#%% md\n"
    }
   }
  },
  {
   "cell_type": "code",
   "execution_count": 5,
   "outputs": [
    {
     "name": "stdout",
     "output_type": "stream",
     "text": [
      "Requirement already satisfied: pip in /Users/akatsnelson/.conda/envs/ML/lib/python3.10/site-packages (22.2.2)\r\n",
      "Requirement already satisfied: setuptools in /Users/akatsnelson/.conda/envs/ML/lib/python3.10/site-packages (65.3.0)\r\n",
      "Requirement already satisfied: wheel in /Users/akatsnelson/.conda/envs/ML/lib/python3.10/site-packages (0.37.1)\r\n",
      "Requirement already satisfied: spacy in /Users/akatsnelson/.conda/envs/ML/lib/python3.10/site-packages (3.4.1)\r\n",
      "Requirement already satisfied: jinja2 in /Users/akatsnelson/.conda/envs/ML/lib/python3.10/site-packages (from spacy) (3.1.2)\r\n",
      "Requirement already satisfied: setuptools in /Users/akatsnelson/.conda/envs/ML/lib/python3.10/site-packages (from spacy) (65.3.0)\r\n",
      "Requirement already satisfied: typer<0.5.0,>=0.3.0 in /Users/akatsnelson/.conda/envs/ML/lib/python3.10/site-packages (from spacy) (0.4.2)\r\n",
      "Requirement already satisfied: thinc<8.2.0,>=8.1.0 in /Users/akatsnelson/.conda/envs/ML/lib/python3.10/site-packages (from spacy) (8.1.0)\r\n",
      "Requirement already satisfied: requests<3.0.0,>=2.13.0 in /Users/akatsnelson/.conda/envs/ML/lib/python3.10/site-packages (from spacy) (2.28.1)\r\n",
      "Requirement already satisfied: packaging>=20.0 in /Users/akatsnelson/.conda/envs/ML/lib/python3.10/site-packages (from spacy) (21.3)\r\n",
      "Requirement already satisfied: cymem<2.1.0,>=2.0.2 in /Users/akatsnelson/.conda/envs/ML/lib/python3.10/site-packages (from spacy) (2.0.6)\r\n",
      "Requirement already satisfied: tqdm<5.0.0,>=4.38.0 in /Users/akatsnelson/.conda/envs/ML/lib/python3.10/site-packages (from spacy) (4.64.0)\r\n",
      "Requirement already satisfied: murmurhash<1.1.0,>=0.28.0 in /Users/akatsnelson/.conda/envs/ML/lib/python3.10/site-packages (from spacy) (1.0.8)\r\n",
      "Requirement already satisfied: pathy>=0.3.5 in /Users/akatsnelson/.conda/envs/ML/lib/python3.10/site-packages (from spacy) (0.6.2)\r\n",
      "Requirement already satisfied: numpy>=1.15.0 in /Users/akatsnelson/.conda/envs/ML/lib/python3.10/site-packages (from spacy) (1.23.2)\r\n",
      "Requirement already satisfied: wasabi<1.1.0,>=0.9.1 in /Users/akatsnelson/.conda/envs/ML/lib/python3.10/site-packages (from spacy) (0.10.1)\r\n",
      "Requirement already satisfied: preshed<3.1.0,>=3.0.2 in /Users/akatsnelson/.conda/envs/ML/lib/python3.10/site-packages (from spacy) (3.0.7)\r\n",
      "Requirement already satisfied: spacy-legacy<3.1.0,>=3.0.9 in /Users/akatsnelson/.conda/envs/ML/lib/python3.10/site-packages (from spacy) (3.0.10)\r\n",
      "Requirement already satisfied: pydantic!=1.8,!=1.8.1,<1.10.0,>=1.7.4 in /Users/akatsnelson/.conda/envs/ML/lib/python3.10/site-packages (from spacy) (1.9.2)\r\n",
      "Requirement already satisfied: catalogue<2.1.0,>=2.0.6 in /Users/akatsnelson/.conda/envs/ML/lib/python3.10/site-packages (from spacy) (2.0.8)\r\n",
      "Requirement already satisfied: srsly<3.0.0,>=2.4.3 in /Users/akatsnelson/.conda/envs/ML/lib/python3.10/site-packages (from spacy) (2.4.4)\r\n",
      "Requirement already satisfied: langcodes<4.0.0,>=3.2.0 in /Users/akatsnelson/.conda/envs/ML/lib/python3.10/site-packages (from spacy) (3.3.0)\r\n",
      "Requirement already satisfied: spacy-loggers<2.0.0,>=1.0.0 in /Users/akatsnelson/.conda/envs/ML/lib/python3.10/site-packages (from spacy) (1.0.3)\r\n",
      "Requirement already satisfied: pyparsing!=3.0.5,>=2.0.2 in /Users/akatsnelson/.conda/envs/ML/lib/python3.10/site-packages (from packaging>=20.0->spacy) (3.0.9)\r\n",
      "Requirement already satisfied: smart-open<6.0.0,>=5.2.1 in /Users/akatsnelson/.conda/envs/ML/lib/python3.10/site-packages (from pathy>=0.3.5->spacy) (5.2.1)\r\n",
      "Requirement already satisfied: typing-extensions>=3.7.4.3 in /Users/akatsnelson/.conda/envs/ML/lib/python3.10/site-packages (from pydantic!=1.8,!=1.8.1,<1.10.0,>=1.7.4->spacy) (4.0.1)\r\n",
      "Requirement already satisfied: idna<4,>=2.5 in /Users/akatsnelson/.conda/envs/ML/lib/python3.10/site-packages (from requests<3.0.0,>=2.13.0->spacy) (3.3)\r\n",
      "Requirement already satisfied: certifi>=2017.4.17 in /Users/akatsnelson/.conda/envs/ML/lib/python3.10/site-packages (from requests<3.0.0,>=2.13.0->spacy) (2022.6.15)\r\n",
      "Requirement already satisfied: charset-normalizer<3,>=2 in /Users/akatsnelson/.conda/envs/ML/lib/python3.10/site-packages (from requests<3.0.0,>=2.13.0->spacy) (2.1.0)\r\n",
      "Requirement already satisfied: urllib3<1.27,>=1.21.1 in /Users/akatsnelson/.conda/envs/ML/lib/python3.10/site-packages (from requests<3.0.0,>=2.13.0->spacy) (1.26.11)\r\n",
      "Requirement already satisfied: blis<0.8.0,>=0.7.8 in /Users/akatsnelson/.conda/envs/ML/lib/python3.10/site-packages (from thinc<8.2.0,>=8.1.0->spacy) (0.7.8)\r\n",
      "Requirement already satisfied: click<9.0.0,>=7.1.1 in /Users/akatsnelson/.conda/envs/ML/lib/python3.10/site-packages (from typer<0.5.0,>=0.3.0->spacy) (8.1.3)\r\n",
      "Requirement already satisfied: MarkupSafe>=2.0 in /Users/akatsnelson/.conda/envs/ML/lib/python3.10/site-packages (from jinja2->spacy) (2.1.1)\r\n",
      "OMP: Error #15: Initializing libomp.dylib, but found libomp.dylib already initialized.\r\n",
      "OMP: Hint This means that multiple copies of the OpenMP runtime have been linked into the program. That is dangerous, since it can degrade performance or cause incorrect results. The best thing to do is to ensure that only a single OpenMP runtime is linked into the process, e.g. by avoiding static linking of the OpenMP runtime in any library. As an unsafe, unsupported, undocumented workaround you can set the environment variable KMP_DUPLICATE_LIB_OK=TRUE to allow the program to continue to execute, but that may cause crashes or silently produce incorrect results. For more information, please see http://openmp.llvm.org/\r\n"
     ]
    }
   ],
   "source": [
    "!pip install -U pip setuptools wheel\n",
    "!pip install -U spacy\n",
    "!python -m spacy download ru_core_news_lg"
   ],
   "metadata": {
    "collapsed": false,
    "pycharm": {
     "name": "#%%\n"
    }
   }
  },
  {
   "cell_type": "markdown",
   "source": [
    "Заметим, что перед представлением используются ключевые слова и выпишем их. Далее будем искать их в тексте и если после них стоит имя, которое мы определяем с помощью NER, то считаем его за имя менеджера."
   ],
   "metadata": {
    "collapsed": false,
    "pycharm": {
     "name": "#%% md\n"
    }
   }
  },
  {
   "cell_type": "code",
   "execution_count": null,
   "outputs": [],
   "source": [
    "import spacy\n",
    "\n",
    "nlp = spacy.load(\"ru_core_news_lg\")\n",
    "\n",
    "my_name_is = ['меня зовут', 'зовут меня', 'я', 'хочу представиться', 'мое имя', 'разрешите представиться',\n",
    "              'давайте знакомиться', 'зовите меня', 'познакомимся', 'меня величают']\n",
    "\n",
    "def name_detection(text):\n",
    "    doc = nlp(text)\n",
    "    text_before = ''\n",
    "    mni_flag = False\n",
    "    for token in doc:\n",
    "        for mni in my_name_is:\n",
    "            if mni in text_before:\n",
    "                mni_flag = True\n",
    "        if token.ent_type_ == 'PER' and mni_flag:\n",
    "            return token.text\n",
    "        text_before += token.text\n",
    "    return ''\n",
    "\n",
    "\n",
    "df['manager_name'] = df[df['role'] == 'manager']['text'].apply(name_detection)"
   ],
   "metadata": {
    "collapsed": false,
    "pycharm": {
     "name": "#%%\n",
     "is_executing": true
    }
   }
  },
  {
   "cell_type": "markdown",
   "source": [
    "Проверяем нашу работу\n",
    "Очевидно, что там где мы определили имя менеджера это и есть предложение, где он представился.\n",
    "Теперь определим в каждом ли чате менеджер поздоровался и попрощался с клиентом"
   ],
   "metadata": {
    "collapsed": false,
    "pycharm": {
     "name": "#%% md\n"
    }
   }
  },
  {
   "cell_type": "code",
   "execution_count": 71,
   "outputs": [
    {
     "data": {
      "text/plain": "        manager_farewell  manager_greeting\ndlg_id                                    \n0                   True              True\n1                   True              True\n2                  False              True\n3                   True              True\n4                   True             False\n5                   True             False",
      "text/html": "<div>\n<style scoped>\n    .dataframe tbody tr th:only-of-type {\n        vertical-align: middle;\n    }\n\n    .dataframe tbody tr th {\n        vertical-align: top;\n    }\n\n    .dataframe thead th {\n        text-align: right;\n    }\n</style>\n<table border=\"1\" class=\"dataframe\">\n  <thead>\n    <tr style=\"text-align: right;\">\n      <th></th>\n      <th>manager_farewell</th>\n      <th>manager_greeting</th>\n    </tr>\n    <tr>\n      <th>dlg_id</th>\n      <th></th>\n      <th></th>\n    </tr>\n  </thead>\n  <tbody>\n    <tr>\n      <th>0</th>\n      <td>True</td>\n      <td>True</td>\n    </tr>\n    <tr>\n      <th>1</th>\n      <td>True</td>\n      <td>True</td>\n    </tr>\n    <tr>\n      <th>2</th>\n      <td>False</td>\n      <td>True</td>\n    </tr>\n    <tr>\n      <th>3</th>\n      <td>True</td>\n      <td>True</td>\n    </tr>\n    <tr>\n      <th>4</th>\n      <td>True</td>\n      <td>False</td>\n    </tr>\n    <tr>\n      <th>5</th>\n      <td>True</td>\n      <td>False</td>\n    </tr>\n  </tbody>\n</table>\n</div>"
     },
     "execution_count": 71,
     "metadata": {},
     "output_type": "execute_result"
    }
   ],
   "source": [
    "df[(df['role'] == 'manager') & (df['manager_greeting'] == True) | (df['manager_farewell'] == True)].groupby('dlg_id').agg({'manager_farewell': 'max', 'manager_greeting': 'max'})"
   ],
   "metadata": {
    "collapsed": false,
    "pycharm": {
     "name": "#%%\n"
    }
   }
  },
  {
   "cell_type": "markdown",
   "source": [
    "К сожалению, название компании достать не получилось, тк даже самые точные ner модели очень плохо понимают сущности в нижнем регистре. А искать просто ключевое слово компания как-то глупо, тем более, что неизвестно кол-во слов."
   ],
   "metadata": {
    "collapsed": false,
    "pycharm": {
     "name": "#%% md\n"
    }
   }
  }
 ],
 "metadata": {
  "kernelspec": {
   "display_name": "Python 3",
   "language": "python",
   "name": "python3"
  },
  "language_info": {
   "codemirror_mode": {
    "name": "ipython",
    "version": 2
   },
   "file_extension": ".py",
   "mimetype": "text/x-python",
   "name": "python",
   "nbconvert_exporter": "python",
   "pygments_lexer": "ipython2",
   "version": "2.7.6"
  }
 },
 "nbformat": 4,
 "nbformat_minor": 0
}